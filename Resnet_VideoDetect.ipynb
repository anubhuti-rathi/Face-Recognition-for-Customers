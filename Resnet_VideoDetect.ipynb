{
  "nbformat": 4,
  "nbformat_minor": 0,
  "metadata": {
    "colab": {
      "name": "Resnet_VideoDetect.ipynb",
      "provenance": [],
      "collapsed_sections": []
    },
    "kernelspec": {
      "display_name": "Python 3",
      "name": "python3"
    },
    "language_info": {
      "name": "python"
    }
  },
  "cells": [
    {
      "cell_type": "code",
      "metadata": {
        "id": "0Vu8JinEO0vn"
      },
      "source": [
        "from imutils.video import VideoStream\n",
        "from imutils.video import FPS\n",
        "import numpy as np\n",
        "import argparse\n",
        "import imutils\n",
        "import pickle\n",
        "import time\n",
        "import cv2\n",
        "from google.colab.patches import cv2_imshow\n",
        "import sys"
      ],
      "execution_count": null,
      "outputs": []
    },
    {
      "cell_type": "code",
      "metadata": {
        "id": "wCRY_KU0sGvt"
      },
      "source": [
        "from IPython.display import display, Javascript,HTML\n",
        "from google.colab.output import eval_js\n",
        "from base64 import b64decode\n",
        " \n",
        "def record_video(filename):\n",
        "  js=Javascript(\"\"\"\n",
        "    async function recordVideo() {\n",
        "      const options = { mimeType: \"video/webm; codecs=vp9\" };\n",
        "      const div = document.createElement('div');\n",
        "      const capture = document.createElement('button');\n",
        "      const stopCapture = document.createElement(\"button\");\n",
        "       \n",
        "      capture.textContent = \"Start Recording\";\n",
        "      capture.style.background = \"orange\";\n",
        "      capture.style.color = \"white\";\n",
        " \n",
        "      stopCapture.textContent = \"Stop Recording\";\n",
        "      stopCapture.style.background = \"red\";\n",
        "      stopCapture.style.color = \"white\";\n",
        "      div.appendChild(capture);\n",
        " \n",
        "      const video = document.createElement('video');\n",
        "      const recordingVid = document.createElement(\"video\");\n",
        "      video.style.display = 'block';\n",
        " \n",
        "      const stream = await navigator.mediaDevices.getUserMedia({audio:true, video: true});\n",
        "     \n",
        "      let recorder = new MediaRecorder(stream, options);\n",
        "      document.body.appendChild(div);\n",
        "      div.appendChild(video);\n",
        " \n",
        "      video.srcObject = stream;\n",
        "      video.muted = true;\n",
        " \n",
        "      await video.play();\n",
        " \n",
        "      google.colab.output.setIframeHeight(document.documentElement.scrollHeight, true);\n",
        " \n",
        "      await new Promise((resolve) => {\n",
        "        capture.onclick = resolve;\n",
        "      });\n",
        "      recorder.start();\n",
        "      capture.replaceWith(stopCapture);\n",
        " \n",
        "      await new Promise((resolve) => stopCapture.onclick = resolve);\n",
        "      recorder.stop();\n",
        "      let recData = await new Promise((resolve) => recorder.ondataavailable = resolve);\n",
        "      let arrBuff = await recData.data.arrayBuffer();\n",
        "       \n",
        "      // stop the stream and remove the video element\n",
        "      stream.getVideoTracks()[0].stop();\n",
        "      div.remove();\n",
        " \n",
        "      let binaryString = \"\";\n",
        "      let bytes = new Uint8Array(arrBuff);\n",
        "      bytes.forEach((byte) => {\n",
        "        binaryString += String.fromCharCode(byte);\n",
        "      })\n",
        "    return btoa(binaryString);\n",
        "    }\n",
        "  \"\"\")\n",
        "  try:\n",
        "    display(js)\n",
        "    data=eval_js('recordVideo({})')\n",
        "    binary=b64decode(data)\n",
        "    with open(filename,\"wb\") as video_file:\n",
        "      video_file.write(binary)\n",
        "    print(f\"Finished recording video at:{filename}\")\n",
        "  except Exception as err:\n",
        "    print(str(err))"
      ],
      "execution_count": null,
      "outputs": []
    },
    {
      "cell_type": "code",
      "metadata": {
        "id": "gPBVINI_sHwQ"
      },
      "source": [
        "video_path = \"test_video.mp4\"\n",
        "record_video(video_path)"
      ],
      "execution_count": null,
      "outputs": []
    },
    {
      "cell_type": "markdown",
      "metadata": {
        "id": "6DiGIXOzv8-z"
      },
      "source": [
        "**Create folder for frames**"
      ]
    },
    {
      "cell_type": "code",
      "metadata": {
        "id": "EZecceFDv7e9"
      },
      "source": [
        "import os\n",
        "os.makedirs('/content/drive/MyDrive/Myphotos/Datasets')"
      ],
      "execution_count": null,
      "outputs": []
    },
    {
      "cell_type": "markdown",
      "metadata": {
        "id": "yCaxM-XAs99g"
      },
      "source": [
        "**Counting the no. of frames in a video**"
      ]
    },
    {
      "cell_type": "code",
      "metadata": {
        "id": "EubIHcAHs2KC",
        "colab": {
          "base_uri": "https://localhost:8080/"
        },
        "outputId": "4db8bf15-594c-49c6-ad80-95c20865bb8d"
      },
      "source": [
        "cap=cv2.VideoCapture('/content/test_video.mp4')\n",
        "while(cap.isOpened()):\n",
        "  ret,frame=cap.read()\n",
        "  if ret:\n",
        "    if cv2.waitKey(10) == 27:                     # exit if Escape is hit\n",
        "      break\n",
        "  else:\n",
        "    break\n",
        "  count += 1\n",
        "print(count)"
      ],
      "execution_count": null,
      "outputs": [
        {
          "output_type": "stream",
          "text": [
            "606\n"
          ],
          "name": "stdout"
        }
      ]
    },
    {
      "cell_type": "markdown",
      "metadata": {
        "id": "BHrdDNHrEkkz"
      },
      "source": [
        "pip install python-ffmpeg\n",
        "\n",
        "This python-ffmpeg gives error. install ffmpeg-python"
      ]
    },
    {
      "cell_type": "code",
      "metadata": {
        "colab": {
          "base_uri": "https://localhost:8080/"
        },
        "id": "pFnR3s2rFZlA",
        "outputId": "3d09c956-fb70-4217-9988-cf43b0ddc238"
      },
      "source": [
        "!pip install ffmpeg-python\n"
      ],
      "execution_count": null,
      "outputs": [
        {
          "output_type": "stream",
          "text": [
            "Collecting ffmpeg-python\n",
            "  Downloading ffmpeg_python-0.2.0-py3-none-any.whl (25 kB)\n",
            "Requirement already satisfied: future in /usr/local/lib/python3.7/dist-packages (from ffmpeg-python) (0.16.0)\n",
            "Installing collected packages: ffmpeg-python\n",
            "Successfully installed ffmpeg-python-0.2.0\n"
          ],
          "name": "stdout"
        }
      ]
    },
    {
      "cell_type": "code",
      "metadata": {
        "id": "tpqa10AhCvob"
      },
      "source": [
        "import ffmpeg"
      ],
      "execution_count": null,
      "outputs": []
    },
    {
      "cell_type": "markdown",
      "metadata": {
        "id": "yg0LQ4ubRrEg"
      },
      "source": [
        "mpdecimate and setpts are filters. vf is video filter.\n",
        "\n",
        "-an is removing audio. mpdecimate only operates on video media file.\n",
        "\n",
        "mpdecimate - it analyzes all the frames in the video and if it finds a sequence where it doesn't looks like anything is changing. It will remove all of them. So you get one piece of information that is useful. \n",
        "\n",
        "if you want it by itself you will get a section where nothing happens because the bunch of frames is being removed.\n",
        "\n",
        "\n",
        "setpts=it updates the presentation timestamps on the frames that are left. Nice clean playback of the frames left after the frozen frames were dropped."
      ]
    },
    {
      "cell_type": "code",
      "metadata": {
        "id": "ENs05KyaM4dA"
      },
      "source": [
        "#ffmpeg -i test1.mp4 -vf mpdecimate,setpts=N/FRAME_RATE/TB -an test1_decimated.mp4"
      ],
      "execution_count": null,
      "outputs": []
    },
    {
      "cell_type": "code",
      "metadata": {
        "colab": {
          "base_uri": "https://localhost:8080/"
        },
        "id": "a5pU5YpdHbAz",
        "outputId": "d7c1ac9f-c970-42ec-b09f-0e9803c5a501"
      },
      "source": [
        "import ffmpeg\n",
        "(\n",
        "    ffmpeg\n",
        "    .input('/content/test_video.mp4')\n",
        "    .filter_('mpdecimate')\n",
        "    .filter_('setpts','N/FRAME_RATE/TB')\n",
        "    .output('test_decimated.mp4')\n",
        "    .run()\n",
        ")"
      ],
      "execution_count": null,
      "outputs": [
        {
          "output_type": "execute_result",
          "data": {
            "text/plain": [
              "(None, None)"
            ]
          },
          "metadata": {
            "tags": []
          },
          "execution_count": 22
        }
      ]
    },
    {
      "cell_type": "markdown",
      "metadata": {
        "id": "TloC_LKXvkax"
      },
      "source": [
        "**Adding frames to dataset**"
      ]
    },
    {
      "cell_type": "code",
      "metadata": {
        "id": "V45dR6RwEvs7"
      },
      "source": [
        "cap=cv2.VideoCapture('/content/drive/MyDrive/Myphotos/Datasets/test_decimated.mp4')\n",
        "count=0\n",
        "while(cap.isOpened()):\n",
        "  ret,frame=cap.read()\n",
        "  if ret:\n",
        "    cv2.imwrite( '/content/drive/MyDrive/Myphotos/Datasets'+ \"/%#05d.jpg\" %count, frame)\n",
        "    if cv2.waitKey(10) == 27:                     # exit if Escape is hit\n",
        "      break\n",
        "  else:\n",
        "    break\n",
        "  count += 1"
      ],
      "execution_count": null,
      "outputs": []
    },
    {
      "cell_type": "code",
      "metadata": {
        "id": "926kqThStW9J"
      },
      "source": [
        "modelFile = \"/content/drive/MyDrive/Myphotos/model/res10_300x300_ssd_iter_140000_fp16 (1).caffemodel\"\n",
        "configFile = \"/content/drive/MyDrive/Myphotos/model/deploy.prototxt\"\n",
        "net = cv2.dnn.readNetFromCaffe(configFile, modelFile)"
      ],
      "execution_count": null,
      "outputs": []
    },
    {
      "cell_type": "code",
      "metadata": {
        "id": "_8s7_eU-PRsO"
      },
      "source": [
        "cap = cv2.VideoCapture('/content/test_video.mp4')\n",
        "count=0\n",
        "ret=True\n",
        "\n",
        "vs = VideoStream(src=0).start()\n",
        "time.sleep(2)\n",
        "\n",
        "fps = FPS().start()\n",
        "while ret:\n",
        "  count+=1\n",
        "  print(count)\n",
        "  ret, frame=cap.read()\n",
        "  try:\n",
        "    frame = cv2.resize(frame , (320,240))\n",
        "    frame = imutils.resize(frame, width=600)\n",
        "  \n",
        "  except:\n",
        "    continue\n",
        "\n",
        "  (h, w) = frame.shape[:2]\n",
        "  \n",
        "  imageBlob = cv2.dnn.blobFromImage(\n",
        "      cv2.resize(frame, (300, 300)), 1.0, (300, 300),\n",
        "      (104.0, 177.0, 123.0), swapRB=False, crop=False)\n",
        "  \n",
        "  net.setInput(imageBlob)\n",
        "  detections = net.forward()\n",
        "  print(detections)\n",
        "  \n",
        "  for i in range(0, detections.shape[2]):\n",
        "    \n",
        "    confidence = detections[0, 0, i, 2]\n",
        "    \n",
        "    if confidence > 0.95:\n",
        "      box = detections[0, 0, i, 3:7] * np.array([w, h, w, h])\n",
        "      (startX, startY, endX, endY) = box.astype(\"int\")\n",
        "      \n",
        "      face = frame[startY:endY, startX:endX]\n",
        "      (fH, fW) = face.shape[:2]\n",
        "      \n",
        "      if fW < 20 or fH < 20:\n",
        "        continue\n",
        "      cv2.rectangle(frame, (startX, startY), (endX, endY),(0, 0, 255), 2)\n",
        "    else:\n",
        "      print('*')\n",
        "      continue\n",
        "  fps.update()\n",
        "\n",
        "  cv2_imshow(frame)\n",
        "  if(cv2.waitKey(1) & 0xFF==27):\n",
        "    break\n",
        "fps.stop()\n",
        "print(\"[INFO] elasped time: {:.2f}\".format(fps.elapsed()))\n",
        "print(\"[INFO] approx. FPS: {:.2f}\".format(fps.fps()))\n",
        "cv2.destroyAllWindows()\n",
        "vs.stop()"
      ],
      "execution_count": null,
      "outputs": []
    }
  ]
}